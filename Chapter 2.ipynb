{
 "cells": [
  {
   "cell_type": "code",
   "execution_count": 152,
   "metadata": {},
   "outputs": [],
   "source": [
    "import matplotlib as mpl\n",
    "import matplotlib.pyplot as plt\n",
    "import numpy as np\n",
    "import ipywidgets as wdg\n",
    "from mpl_toolkits.mplot3d import Axes3D\n",
    "import ipyvolume as ipv\n",
    "from IPython.display import display\n",
    "from IPython.display import clear_output"
   ]
  },
  {
   "cell_type": "code",
   "execution_count": 59,
   "metadata": {},
   "outputs": [],
   "source": [
    "%matplotlib inline"
   ]
  },
  {
   "cell_type": "code",
   "execution_count": 60,
   "metadata": {},
   "outputs": [],
   "source": [
    "%matplotlib inline\n",
    "plt.rcParams['figure.figsize'] = (6,4)\n",
    "plt.rcParams['figure.dpi'] = 150"
   ]
  },
  {
   "cell_type": "markdown",
   "metadata": {},
   "source": [
    "# Affine Sets\n",
    "A set $C$ is affine if the hyperplane through any k distinct points in $C$ lie in $C$ i.e for all $x_1, x_2,...,x_k \\in C$ and $\\theta_i$ such that $\\sum_{i=1}^k\\theta_i = 1$, $\\theta_1 x_1 + \\theta_2 x_2 + ... + \\theta_k x_k \\in C$ (We call these points affine combinations).  Note that this definition really is saying that all points on the hyperplane lie in $C$ and not the plane itselt. Below, mess around with the two dimensional case of the affine set $\\mathbb{R}^2$"
   ]
  },
  {
   "cell_type": "code",
   "execution_count": 61,
   "metadata": {},
   "outputs": [
    {
     "data": {
      "application/vnd.jupyter.widget-view+json": {
       "model_id": "a055fa7fc59f4fdf8b132fbda63f7556",
       "version_major": 2,
       "version_minor": 0
      },
      "text/plain": [
       "interactive(children=(FloatSlider(value=3.0, description='theta', max=15.0, min=-9.0, step=0.2), FloatSlider(v…"
      ]
     },
     "metadata": {},
     "output_type": "display_data"
    },
    {
     "data": {
      "text/plain": [
       "<function __main__.f(theta, x_1_x, x_1_y, x_2_x, x_2_y)>"
      ]
     },
     "execution_count": 61,
     "metadata": {},
     "output_type": "execute_result"
    }
   ],
   "source": [
    "def f(theta, x_1_x, x_1_y, x_2_x, x_2_y):\n",
    "    run = (x_1_x - x_2_x)\n",
    "    rise = (x_1_y - x_2_y)\n",
    "    plt.plot((x_1_x), (x_1_y), 'ro-')\n",
    "    plt.plot((x_2_x), (x_2_y), 'ro-')\n",
    "    plt.plot((x_1_x + 20 * run , x_2_x - 20 * run), (x_1_y + 20 * rise, x_2_y - 20 * rise), 'bo-')\n",
    "    plt.plot((theta * x_1_x + (1-theta) * x_2_x), (theta * x_1_y + (1-theta) * x_2_y), 'go-')\n",
    "    plt.ylim(0,10)\n",
    "    plt.xlim(0,10)\n",
    "wdg.interact(f, theta = (-9, 15, .2), x_1_x = (0,10,.5), x_1_y = (0,10,.5), x_2_x = (0,10,.5), x_2_y = (0,10,.5))"
   ]
  },
  {
   "cell_type": "markdown",
   "metadata": {},
   "source": [
    "The affine hull of a set $C \\subset \\mathbb{R}^n$, denoted $aff C$ is the set of all affine combinations of points in the set.  Here we see the three dimensional example of a trio of points, whose affine hull is a plane (use the button to generate new ones!)."
   ]
  },
  {
   "cell_type": "code",
   "execution_count": 154,
   "metadata": {},
   "outputs": [
    {
     "data": {
      "application/vnd.jupyter.widget-view+json": {
       "model_id": "2cb79c52e75c48109549e910b46ff7f9",
       "version_major": 2,
       "version_minor": 0
      },
      "text/plain": [
       "VBox(children=(Figure(camera=PerspectiveCamera(fov=46.0, position=(0.0, 0.0, 2.0), quaternion=(0.0, 0.0, 0.0, …"
      ]
     },
     "metadata": {},
     "output_type": "display_data"
    },
    {
     "data": {
      "application/vnd.jupyter.widget-view+json": {
       "model_id": "637cf94667084fc0825d8f18bf24ca75",
       "version_major": 2,
       "version_minor": 0
      },
      "text/plain": [
       "Button(description='New Points for a Hull!', style=ButtonStyle())"
      ]
     },
     "metadata": {},
     "output_type": "display_data"
    },
    {
     "data": {
      "application/vnd.jupyter.widget-view+json": {
       "model_id": "8740cff7250444528625c866512c8619",
       "version_major": 2,
       "version_minor": 0
      },
      "text/plain": [
       "Output()"
      ]
     },
     "metadata": {},
     "output_type": "display_data"
    }
   ],
   "source": [
    "ipv.figure()\n",
    "def render(evt):\n",
    "    ipv.clear()\n",
    "    clear_output()\n",
    "    x = np.random.rand(1,3)\n",
    "    y = np.random.rand(1,3)\n",
    "    z = np.random.rand(1,3)\n",
    "    s = ipv.scatter(x, y, z, marker='sphere', size=10)\n",
    "    p1, p2, p3 = np.array([x[0][0], y[0][0], z[0][0]]),  np.array([x[0][1], y[0][1], z[0][1]]), np.array([x[0][2], y[0][2], z[0][2]])\n",
    "    v1 = p3 - p1\n",
    "    v2 = p2 - p1\n",
    "\n",
    "    # the cross product is a vector normal to the plane\n",
    "    cp = np.cross(v1, v2)\n",
    "    a, b, c = cp\n",
    "    # This evaluates a * x3 + b * y3 + c * z3 which equals d\n",
    "    d = np.dot(cp, p3)\n",
    "    u = np.linspace(-2, 14, 5)\n",
    "    v = np.linspace(-2, 14, 5)\n",
    "    X, Y = np.meshgrid(u, v)\n",
    "\n",
    "    Z = (d - a * X - b * Y) / c\n",
    "    t = ipv.plot_surface(X,Y,Z)\n",
    "    ipv.xyzlim(0, 1)\n",
    "    ipv.show()\n",
    "    \n",
    "    button = wdg.Button(description=\"New Points for a Hull!\")\n",
    "    output = wdg.Output()\n",
    "    display(button, output)\n",
    "    button.on_click(render)\n",
    "\n",
    "button = wdg.Button(description=\"New Points for a Hull!\")\n",
    "output = wdg.Output()\n",
    "display(button, output)\n",
    "\n",
    "button.on_click(render)"
   ]
  },
  {
   "cell_type": "code",
   "execution_count": null,
   "metadata": {},
   "outputs": [],
   "source": []
  }
 ],
 "metadata": {
  "kernelspec": {
   "display_name": "Python 3",
   "language": "python",
   "name": "python3"
  },
  "language_info": {
   "codemirror_mode": {
    "name": "ipython",
    "version": 3
   },
   "file_extension": ".py",
   "mimetype": "text/x-python",
   "name": "python",
   "nbconvert_exporter": "python",
   "pygments_lexer": "ipython3",
   "version": "3.7.1"
  }
 },
 "nbformat": 4,
 "nbformat_minor": 2
}
