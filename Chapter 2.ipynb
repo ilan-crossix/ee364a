{
 "cells": [
  {
   "cell_type": "code",
   "execution_count": 71,
   "metadata": {
    "hideCode": true,
    "hidePrompt": false,
    "scrolled": true
   },
   "outputs": [],
   "source": [
    "import matplotlib as mpl\n",
    "import matplotlib.pyplot as plt\n",
    "import numpy as np\n",
    "import ipywidgets as wdg\n",
    "from mpl_toolkits.mplot3d import Axes3D\n",
    "import ipyvolume as ipv\n",
    "from IPython.display import display\n",
    "from IPython.display import clear_output"
   ]
  },
  {
   "cell_type": "code",
   "execution_count": 72,
   "metadata": {
    "hideCode": true,
    "hidePrompt": false,
    "scrolled": true
   },
   "outputs": [],
   "source": [
    "%matplotlib inline"
   ]
  },
  {
   "cell_type": "code",
   "execution_count": 73,
   "metadata": {
    "hideCode": true,
    "hidePrompt": false,
    "scrolled": true
   },
   "outputs": [],
   "source": [
    "%matplotlib inline\n",
    "plt.rcParams['figure.figsize'] = (6,4)\n",
    "plt.rcParams['figure.dpi'] = 150"
   ]
  },
  {
   "cell_type": "markdown",
   "metadata": {
    "hideCode": false,
    "hidePrompt": false
   },
   "source": [
    "# Affine Sets\n",
    "A set $C$ is affine if the line between any two points is contained within the se $C$.  More generally, and equally, any hyperplane through any k distinct points in $C$ lie in $C$ i.e for all $x_1, x_2,...,x_k \\in C$ and $\\theta_i$ such that $\\sum_{i=1}^k\\theta_i = 1$, $\\theta_1 x_1 + \\theta_2 x_2 + ... + \\theta_k x_k \\in C$ (We call these points $\\textit{affine combinations}$).  Note that this definition really is saying that all points on the hyperplane lie in $C$ and not the plane itself as $C$ is a set of points. Below, mess around with the two dimensional case of the affine set $\\mathbb{R}^2$, where we see that for any two $x_1,x_2$, $\\theta x_1 + (1-\\theta) x_2 \\in \\mathbb{R}^2$ and is on the line between $x_1$ and $x_2$."
   ]
  },
  {
   "cell_type": "code",
   "execution_count": 74,
   "metadata": {
    "hideCode": true,
    "hidePrompt": false,
    "scrolled": true
   },
   "outputs": [
    {
     "data": {
      "application/vnd.jupyter.widget-view+json": {
       "model_id": "16c44e257b3849ad98cd191ae662a2b9",
       "version_major": 2,
       "version_minor": 0
      },
      "text/plain": [
       "interactive(children=(FloatSlider(value=3.0, description='theta', max=15.0, min=-9.0, step=0.2), FloatSlider(v…"
      ]
     },
     "metadata": {},
     "output_type": "display_data"
    },
    {
     "data": {
      "text/plain": [
       "<function __main__.f(theta, x_1_x, x_1_y, x_2_x, x_2_y)>"
      ]
     },
     "execution_count": 74,
     "metadata": {},
     "output_type": "execute_result"
    }
   ],
   "source": [
    "def f(theta, x_1_x, x_1_y, x_2_x, x_2_y):\n",
    "    run = (x_1_x - x_2_x)\n",
    "    rise = (x_1_y - x_2_y)\n",
    "    plt.plot((x_1_x), (x_1_y), 'ro-')\n",
    "    plt.plot((x_2_x), (x_2_y), 'ro-')\n",
    "    plt.plot((x_1_x + 20 * run , x_2_x - 20 * run), (x_1_y + 20 * rise, x_2_y - 20 * rise), 'bo-')\n",
    "    plt.plot((theta * x_1_x + (1-theta) * x_2_x), (theta * x_1_y + (1-theta) * x_2_y), 'go-')\n",
    "    plt.ylim(0,10)\n",
    "    plt.xlim(0,10)\n",
    "wdg.interact(f, theta = (-9, 15, .2), x_1_x = (0,10,.5), x_1_y = (0,10,.5), x_2_x = (0,10,.5), x_2_y = (0,10,.5))"
   ]
  },
  {
   "cell_type": "markdown",
   "metadata": {
    "hideCode": false,
    "hidePrompt": false
   },
   "source": [
    "The $\\textit{affine hull}$ of a set $C \\subset \\mathbb{R}^n$, denoted $\\textbf{aff} C$, is the set of all affine combinations of points in the set, $\\{\\theta_1 x_1 + \\theta_2 x_2 + ... + \\theta_k x_k | x_1, x_2,...,x_k \\in C,\\sum_{i=1}^k\\theta_i = 1 \\}$.  Here we see the three dimensional example of a trio of points determining the set of points within a triangle, whose affine hull is a plane (use the button to generate new triangle sets!).  This is equivalent to saying it is the smallest affine set containing $C$."
   ]
  },
  {
   "cell_type": "code",
   "execution_count": 75,
   "metadata": {
    "hideCode": true,
    "hidePrompt": true,
    "scrolled": false
   },
   "outputs": [
    {
     "data": {
      "application/vnd.jupyter.widget-view+json": {
       "model_id": "f2c4061145af44ceaf6867e40380bca4",
       "version_major": 2,
       "version_minor": 0
      },
      "text/plain": [
       "Button(description='New Points for a Hull!', style=ButtonStyle())"
      ]
     },
     "metadata": {},
     "output_type": "display_data"
    },
    {
     "data": {
      "application/vnd.jupyter.widget-view+json": {
       "model_id": "7bbf7382bf4d47da80586ffec01ad4ad",
       "version_major": 2,
       "version_minor": 0
      },
      "text/plain": [
       "Output()"
      ]
     },
     "metadata": {},
     "output_type": "display_data"
    }
   ],
   "source": [
    "ipv.figure()\n",
    "def render(evt):\n",
    "    ipv.clear()\n",
    "    clear_output()\n",
    "    x = np.random.rand(1,3)\n",
    "    y = np.random.rand(1,3)\n",
    "    z = np.random.rand(1,3)\n",
    "    # plot three points\n",
    "    ipv.scatter(x, y, z, marker='sphere', size=1)\n",
    "    triangles = [(0, 1, 2)]\n",
    "    \n",
    "    # get plane equation\n",
    "    p1, p2, p3 = np.array([x[0][0], y[0][0], z[0][0]]),  np.array([x[0][1], y[0][1], z[0][1]]), np.array([x[0][2], y[0][2], z[0][2]])\n",
    "    v1 = p3 - p1\n",
    "    v2 = p2 - p1\n",
    "    \n",
    "    # the cross product is a vector normal to the plane\n",
    "    cp = np.cross(v1, v2)\n",
    "    a, b, c = cp\n",
    "    # This evaluates a * x3 + b * y3 + c * z3 which equals d\n",
    "    d = np.dot(cp, p3)\n",
    "    u = np.linspace(-2, 14, 5)\n",
    "    v = np.linspace(-2, 14, 5)\n",
    "    X, Y = np.meshgrid(u, v)\n",
    "\n",
    "    Z = (d - a * X - b * Y) / c\n",
    "    \n",
    "    # plot plane and ball\n",
    "    ipv.plot_surface(X,Y,Z, color='rgb(0,0,200)')\n",
    "    ipv.plot_trisurf(x, y, z, triangles=triangles, color='orange')\n",
    "    theta = np.random.rand(1,1)[0][0]\n",
    "    x_circle = np.array([theta * x[0][0] + ((1 - theta) / 2) * x[0][1] + ((1 - theta) / 2) * x[0][2]])\n",
    "    y_circle = np.array([theta * y[0][0] + ((1 - theta) / 2) * y[0][1] + ((1 - theta) / 2) * y[0][2]])\n",
    "    z_circle = (d - a*x_circle -b*y_circle) / c\n",
    "    ipv.scatter(x_circle, y_circle, z_circle, marker='sphere', size=6, color='green')\n",
    "    ipv.xyzlim(0, 1)\n",
    "    ipv.show()\n",
    "    \n",
    "    button = wdg.Button(description=\"New Points for a Hull!\")\n",
    "    output = wdg.Output()\n",
    "    display(button, output)\n",
    "    button.on_click(render)\n",
    "\n",
    "button = wdg.Button(description=\"New Points for a Hull!\")\n",
    "output = wdg.Output()\n",
    "button.on_click(render)\n",
    "display(button, output)"
   ]
  },
  {
   "cell_type": "markdown",
   "metadata": {
    "hideCode": false,
    "hidePrompt": false
   },
   "source": [
    "We call the $\\textit{relative interior}$ of the set $C$ as\n",
    "$\\textbf{relint}C = \\{x \\in C | B(x,r) \\cap \\textbf{aff} C \\subset C$ for some $r > 0\\}$. For the above example in $\\mathbb{R}^3$, the interior of $C$ is empty but the relative interior is not, being the triangle itself.  An open set of the relative interior is given as the intersection of the green ball and the triangle."
   ]
  },
  {
   "cell_type": "markdown",
   "metadata": {},
   "source": [
    "# Convex Sets\n",
    "A set $C$ is $\\textit{convex}$ if the se of points on the line segment through any two distinct points in $C$ lie in $C$ i.e for any $x_1,x_2 \\in C$, $\\theta x_1 + (1-\\theta) x_2 \\in C$ for any $\\theta <= 1$. Note that every affine set is also convex."
   ]
  },
  {
   "cell_type": "code",
   "execution_count": 78,
   "metadata": {},
   "outputs": [
    {
     "data": {
      "application/vnd.jupyter.widget-view+json": {
       "model_id": "d76b1378ffcd4a958f259e899e0fd1bc",
       "version_major": 2,
       "version_minor": 0
      },
      "text/plain": [
       "interactive(children=(FloatSlider(value=0.0, description='theta', max=1.0), FloatSlider(value=5.0, description…"
      ]
     },
     "metadata": {},
     "output_type": "display_data"
    },
    {
     "data": {
      "text/plain": [
       "<function __main__.f(theta, x_1_x, x_1_y, x_2_x, x_2_y)>"
      ]
     },
     "execution_count": 78,
     "metadata": {},
     "output_type": "execute_result"
    }
   ],
   "source": [
    "def f(theta, x_1_x, x_1_y, x_2_x, x_2_y):\n",
    "    plt.plot((x_1_x), (x_1_y), 'ro-')\n",
    "    plt.plot((x_2_x), (x_2_y), 'ro-')\n",
    "    plt.plot((theta * x_1_x + (1-theta) * x_2_x), (theta * x_1_y + (1-theta) * x_2_y), 'go-')\n",
    "    plt.ylim(0,10)\n",
    "    plt.xlim(0,10)\n",
    "wdg.interact(f, theta = (0, 1, .1), x_1_x = (0,10,.5), x_1_y = (0,10,.5), x_2_x = (0,10,.5), x_2_y = (0,10,.5))"
   ]
  },
  {
   "cell_type": "code",
   "execution_count": null,
   "metadata": {},
   "outputs": [],
   "source": []
  }
 ],
 "metadata": {
  "celltoolbar": "Hide code",
  "hide_code_all_hidden": false,
  "kernelspec": {
   "display_name": "Python 3",
   "language": "python",
   "name": "python3"
  },
  "language_info": {
   "codemirror_mode": {
    "name": "ipython",
    "version": 3
   },
   "file_extension": ".py",
   "mimetype": "text/x-python",
   "name": "python",
   "nbconvert_exporter": "python",
   "pygments_lexer": "ipython3",
   "version": "3.7.1"
  }
 },
 "nbformat": 4,
 "nbformat_minor": 2
}
